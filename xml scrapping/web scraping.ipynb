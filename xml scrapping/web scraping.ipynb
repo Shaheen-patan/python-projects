{
 "cells": [
  {
   "cell_type": "code",
   "execution_count": 1,
   "id": "4bfbde05-2cb5-42f2-b6d6-3c46195b56c8",
   "metadata": {},
   "outputs": [
    {
     "data": {
      "text/plain": [
       "'<article>\\n    <front>\\n        <journal-meta>\\n            <journal-id journal-id-type=\"publication\">0901c7918047d0e2</journal-id>\\n            <journal-id journal-id-type=\"publisher\" />\\n            <journal-title>Orphan Drug Approvals</journal-title>\\n            <abbrev-journal-title abbrev-type=\"publication\" />\\n            <issn />\\n            <publisher>\\n                <publisher-name>\\n                    <p>WebMD, LLC</p>\\n                </publisher-name>\\n            </publisher>\\n            <notes notes-type=\"support-page\">\\n                <p>index</p>\\n            </notes>\\n        </journal-meta>\\n        <article-meta>\\n            <article-id>0901c79180555528</article-id>\\n            <article-categories>\\n                <subj-group>\\n                    <subject>News Alert</subject>\\n                </subj-group>\\n                <series-title />\\n            </article-categories>\\n            <title-group>\\n                <article-above-title />\\n                <article-title>FDA Grants Orphan Drug Status to Gevokizumab</article-title>\\n                <subtitle />\\n                <alt-title>The FDA has granted orphan drug designation to gevokizumab for the treatment of noninfectious intermediate uveitis, posterior uveitis, or panuveitis, or chronic noninfectious anterior uveitis.</alt-title>\\n            </title-group>\\n            <contrib-group>\\n                <contrib contrib-type=\"Journalist\">\\n                    <name>\\n                        <surname>Troy Brown</surname>\\n                    </name>\\n                    <role>Journalist</role>\\n                    <bio>\\n                        <p>Troy Brown is a freelance writer for Medscape.</p>\\n                    </bio>\\n                    <author-comment>\\n                        <title>Disclosure</title>\\n                        <p>Troy Brown has disclosed no relevant financial relationships.</p>\\n                    </author-comment>\\n                    <author-comment>\\n                        <title>Title</title>\\n                        <p />\\n                    </author-comment>\\n                </contrib>\\n            </contrib-group>\\n            <pub-date>\\n                <day>29</day>\\n                <month>08</month>\\n                <year>2012</year>\\n            </pub-date>\\n            <volume />\\n            <issue />\\n            <fpage />\\n            <lpage />\\n            <copyright-year />\\n            <copyright-statement />\\n            <kwd-group>\\n                <kwd>choroiditis,cyclitis,intermediate uveitis,orphan drugs,pars planitis,posterior uveitis</kwd>\\n            </kwd-group>\\n            <history>\\n                <date date-type=\"posting\">\\n                    <day>29</day>\\n                    <month>08</month>\\n                    <year>2012</year>\\n                </date>\\n            </history>\\n        </article-meta>\\n    </front>\\n    <body>\\n        <sec sec-type=\"page\">\\n            <title />\\n            <sec sec-type=\"Default\">\\n                <title />\\n                <sec sec-type=\"section\">\\n                    <title />\\n                    <p>August 29, 2012 — The US Food and Drug Administration (FDA) has granted orphan drug status to gevokizumab (<italic>Xoma 052</italic>, Xoma Corp), a monoclonal antibody that binds strongly to interleukin 1β (IL-1β), for the treatment of noninfectious intermediate uveitis, posterior uveitis, or panuveitis, or chronic noninfectious anterior uveitis.</p>\\n<p>The Orphan Drug Act of 1983 was passed to encourage companies to develop treatments for rare diseases (diseases that affect fewer than 200,000 people in the United States). Because the market is so small, such treatments can be unprofitable to develop. Companies that develop orphan drugs receive a 50% tax credit for the cost of conducting human clinical trials, 7-year marketing exclusivity, and other incentives.</p>\\n<p>Behçet\\'s disease is a rare multisystem disease that causes blood vessel inflammation throughout the body. Common symptoms are mouth sores, genital sores, and a type of panuveitis known as Behçet\\'s uveitis, an inflammation of the uvea, retina, and vitreous humor that can lead to retinal detachment, vitreous hemorrhage, glaucoma, and blindness.</p>\\n<p>\"A genetic association has been shown between Behçet\\'s disease and the IL-1 gene cluster, and IL-1β has been implicated as a mediator in Behçet\\'s disease pathogenesis,\" Christine Kay, MD, the director of Retinal Clinical Research and the director of the Electrophysiology Service in the Vitreoretinal Division of the Department of Ophthalmology at the University of Florida in Gainesville, told <italic>Medscape Medical News</italic>. Dr. Kay is a clinical correspondent for the American Academy of Ophthalmology.</p>\\n<p>\"Gevokizumab regulates the activation of IL-1 receptors and can be intravenously or subcutaneously administered,\" Dr. Kay added.</p>\\n<p>Patients with Behçet\\'s uveitis have few treatment options. \"There are currently only 2 drugs FDA-approved for the treatment of chronic noninfectious intermediate, posterior, and panuveitis (<italic>Retisert</italic> [Bausch &amp; Lomb] and <italic>Ozurdex</italic> [Allergan]), and both are extended-release corticosteroid ocular implants,\" Dr. Kay said.</p>\\n<p>Results of a proof-of-concept phase 2 trial of intravenous gevokizumab in 7 patients with Behçet\\'s uveitis were published in the April issue of the <italic>Annals of Rheumatic Diseases</italic>. In that trial patients were given a single infusion of gevokizumab (0.3 mg/kg), and all patients experienced complete reduction of intraocular inflammation in between 4 and 21 days (median, 14 days). There were no treatment-related adverse events.</p>\\n<p>\"In clinical trials, so far, gevokizumab has been studied in nearly 500 patients. The studies have shown that gevokizumab is well-tolerated, and no drug-related adverse events have been reported,\" Fred Kurland, chief financial officer of Xoma, said in an email interview with <italic>Medscape Medical News</italic>.</p>\\n<p>Although it appears that gevokizumab \"may offer a viable treatment option in Behçet\\'s disease, it remains to be seen if an IL-1 antibody will have an effect in other forms of noninfectious uveitis. A phase 3 clinical trial to evaluate the efficacy of [gevokizumab] in the treatment of noninfectious uveitis is in the recruitment process,\" Dr. Kay said.</p>\\n<p>\"Gevokizumab does offer the possibility of a pathophysiology-driven targeted therapy for IL-1 related uveitis, and if proven safe and effective in a phase 3 trial, this could provide a valuable option in the treatment of noninfectious intermediate uveitis, posterior uveitis, and panuveitis. Even if this drug is only shown to be effective in Behçet\\'s disease, this could provide a useful and targeted treatment for an extremely aggressive condition, perhaps limiting broader and more toxic immunosuppression,\" Dr. Kay said.</p>\\n<p>\\n                        <bold>Other Potential Indications</bold>\\n                    </p>\\n<p>\"As an IL-1β inhibitor, gevokizumab has potential in a very large number of indications that are driven by inflammation, such as noninfectious uveitis.... [W]e are also engaged in 2 proof-of-concept phase 2 trials using gevokizumab in patients with moderate to severe acne vulgaris and in erosive osteoarthritis of the hand, and we will initiate a third proof-of-concept trial in another indication later this year,\" Kurland explained.</p>\\n<p>\"With respect to the [noninfectious uveitis] market specifically, we estimate that there are approximately 150,000 patients in the [United States who have noninfectious uveitis],\" Kurland added, noting they are not discussing the drug\\'s pricing yet.</p>\\n<p>\\n                        <italic>Dr. Kay has disclosed no relevant financial relationships.</italic>\\n                    </p>\\n                </sec>\\n            </sec>\\n        </sec>\\n    </body>\\n    <back>\\n        <ref-list>\\n            <title>References</title>\\n            <list>\\n                <list-item>\\n                    <p />\\n                </list-item>\\n            </list>\\n        </ref-list>\\n        <ack>\\n            <title>Acknowledgements</title>\\n            <p />\\n        </ack>\\n        <fn-group>\\n            <fn fn-type=\"bkmtr_front\">\\n                <p />\\n            </fn>\\n        </fn-group>\\n    </back>\\n</article>'"
      ]
     },
     "execution_count": 1,
     "metadata": {},
     "output_type": "execute_result"
    }
   ],
   "source": [
    "import os\n",
    "import sys\n",
    "os.chdir(r\"C:\\Users\\ADMIN\\Downloads\")\n",
    "\n",
    "import xml.etree.ElementTree as ET \n",
    "\n",
    "tree = ET.parse(\"769952.xml\")\n",
    "root = tree.getroot()\n",
    "\n",
    "root = ET.tostring(root, encoding='utf-8').decode('utf-8')\n",
    "\n",
    "root"
   ]
  },
  {
   "cell_type": "code",
   "execution_count": 5,
   "id": "c7d3a718-3081-4098-b259-11e2d4e6d240",
   "metadata": {},
   "outputs": [],
   "source": [
    "import re, string, unicodedata\n"
   ]
  },
  {
   "cell_type": "code",
   "execution_count": 7,
   "id": "13079073-1e9c-4aef-b51f-fd2b69fec8bd",
   "metadata": {},
   "outputs": [
    {
     "name": "stdout",
     "output_type": "stream",
     "text": [
      "Requirement already satisfied: nltk in c:\\users\\admin\\anaconda3\\lib\\site-packages (3.8.1)\n",
      "Requirement already satisfied: click in c:\\users\\admin\\anaconda3\\lib\\site-packages (from nltk) (8.1.7)\n",
      "Requirement already satisfied: joblib in c:\\users\\admin\\anaconda3\\lib\\site-packages (from nltk) (1.4.2)\n",
      "Requirement already satisfied: regex>=2021.8.3 in c:\\users\\admin\\anaconda3\\lib\\site-packages (from nltk) (2023.10.3)\n",
      "Requirement already satisfied: tqdm in c:\\users\\admin\\anaconda3\\lib\\site-packages (from nltk) (4.66.4)\n",
      "Requirement already satisfied: colorama in c:\\users\\admin\\anaconda3\\lib\\site-packages (from click->nltk) (0.4.6)\n",
      "Note: you may need to restart the kernel to use updated packages.\n"
     ]
    }
   ],
   "source": [
    "pip install nltk"
   ]
  },
  {
   "cell_type": "code",
   "execution_count": 9,
   "id": "9f94b3b9-09e4-4870-9621-2bc8d5324f1a",
   "metadata": {},
   "outputs": [],
   "source": [
    "import nltk"
   ]
  },
  {
   "cell_type": "code",
   "execution_count": 11,
   "id": "b06fa469-75bd-420a-a01a-54055fd13189",
   "metadata": {},
   "outputs": [],
   "source": [
    "from bs4 import BeautifulSoup\n",
    "from nltk import word_tokenize, sent_tokenize\n",
    "from nltk.corpus import stopwords\n",
    "from nltk.stem import LancasterStemmer, WordNetLemmatizer"
   ]
  },
  {
   "cell_type": "code",
   "execution_count": 13,
   "id": "66a2c664-6ed5-49d6-8202-a076493f13ba",
   "metadata": {},
   "outputs": [],
   "source": [
    "def strip_html(text):\n",
    "    soup = BeautifulSoup(text,\"html.parser\")\n",
    "    return soup.get_text()\n",
    "    \n",
    "def remove_between_square_brackets(text):\n",
    "    return re.sub(r'\\[[^]]*\\]', '', text)\n",
    "    \n",
    "def denoise_text(text):\n",
    "    text = strip_html(text)\n",
    "    text = remove_between_square_brackets(text)\n",
    "    text = re.sub(' ','',text)\n",
    "    return text"
   ]
  },
  {
   "cell_type": "code",
   "execution_count": 19,
   "id": "9c9f5d16-e6c0-410e-b05a-ceab06287296",
   "metadata": {},
   "outputs": [
    {
     "name": "stdout",
     "output_type": "stream",
     "text": [
      "\n",
      "\n",
      "\n",
      "0901c7918047d0e2\n",
      "\n",
      "OrphanDrugApprovals\n",
      "\n",
      "\n",
      "\n",
      "\n",
      "WebMD,LLC\n",
      "\n",
      "\n",
      "\n",
      "index\n",
      "\n",
      "\n",
      "\n",
      "0901c79180555528\n",
      "\n",
      "\n",
      "NewsAlert\n",
      "\n",
      "\n",
      "\n",
      "\n",
      "\n",
      "FDAGrantsOrphanDrugStatustoGevokizumab\n",
      "\n",
      "TheFDAhasgrantedorphandrugdesignationtogevokizumabforthetreatmentofnoninfectiousintermediateuveitis,posterioruveitis,orpanuveitis,orchronicnoninfectiousanterioruveitis.\n",
      "\n",
      "\n",
      "\n",
      "\n",
      "TroyBrown\n",
      "\n",
      "Journalist\n",
      "\n",
      "TroyBrownisafreelancewriterforMedscape.\n",
      "\n",
      "\n",
      "Disclosure\n",
      "TroyBrownhasdisclosednorelevantfinancialrelationships.\n",
      "\n",
      "\n",
      "Title\n",
      "\n",
      "\n",
      "\n",
      "\n",
      "\n",
      "29\n",
      "08\n",
      "2012\n",
      "\n",
      "\n",
      "\n",
      "\n",
      "\n",
      "\n",
      "\n",
      "\n",
      "choroiditis,cyclitis,intermediateuveitis,orphandrugs,parsplanitis,posterioruveitis\n",
      "\n",
      "\n",
      "\n",
      "29\n",
      "08\n",
      "2012\n",
      "\n",
      "\n",
      "\n",
      "\n",
      "\n",
      "\n",
      "\n",
      "\n",
      "\n",
      "\n",
      "\n",
      "August29,2012—TheUSFoodandDrugAdministration(FDA)hasgrantedorphandrugstatustogevokizumab(Xoma052,XomaCorp),amonoclonalantibodythatbindsstronglytointerleukin1β(IL-1β),forthetreatmentofnoninfectiousintermediateuveitis,posterioruveitis,orpanuveitis,orchronicnoninfectiousanterioruveitis.\n",
      "TheOrphanDrugActof1983waspassedtoencouragecompaniestodeveloptreatmentsforrarediseases(diseasesthataffectfewerthan200,000peopleintheUnitedStates).Becausethemarketissosmall,suchtreatmentscanbeunprofitabletodevelop.Companiesthatdeveloporphandrugsreceivea50%taxcreditforthecostofconductinghumanclinicaltrials,7-yearmarketingexclusivity,andotherincentives.\n",
      "Behçet'sdiseaseisararemultisystemdiseasethatcausesbloodvesselinflammationthroughoutthebody.Commonsymptomsaremouthsores,genitalsores,andatypeofpanuveitisknownasBehçet'suveitis,aninflammationoftheuvea,retina,andvitreoushumorthatcanleadtoretinaldetachment,vitreoushemorrhage,glaucoma,andblindness.\n",
      "\"AgeneticassociationhasbeenshownbetweenBehçet'sdiseaseandtheIL-1genecluster,andIL-1βhasbeenimplicatedasamediatorinBehçet'sdiseasepathogenesis,\"ChristineKay,MD,thedirectorofRetinalClinicalResearchandthedirectoroftheElectrophysiologyServiceintheVitreoretinalDivisionoftheDepartmentofOphthalmologyattheUniversityofFloridainGainesville,toldMedscapeMedicalNews.Dr.KayisaclinicalcorrespondentfortheAmericanAcademyofOphthalmology.\n",
      "\"GevokizumabregulatestheactivationofIL-1receptorsandcanbeintravenouslyorsubcutaneouslyadministered,\"Dr.Kayadded.\n",
      "PatientswithBehçet'suveitishavefewtreatmentoptions.\"Therearecurrentlyonly2drugsFDA-approvedforthetreatmentofchronicnoninfectiousintermediate,posterior,andpanuveitis(RetisertandOzurdex),andbothareextended-releasecorticosteroidocularimplants,\"Dr.Kaysaid.\n",
      "Resultsofaproof-of-conceptphase2trialofintravenousgevokizumabin7patientswithBehçet'suveitiswerepublishedintheAprilissueoftheAnnalsofRheumaticDiseases.Inthattrialpatientsweregivenasingleinfusionofgevokizumab(0.3mg/kg),andallpatientsexperiencedcompletereductionofintraocularinflammationinbetween4and21days(median,14days).Therewerenotreatment-relatedadverseevents.\n",
      "\"Inclinicaltrials,sofar,gevokizumabhasbeenstudiedinnearly500patients.Thestudieshaveshownthatgevokizumabiswell-tolerated,andnodrug-relatedadverseeventshavebeenreported,\"FredKurland,chieffinancialofficerofXoma,saidinanemailinterviewwithMedscapeMedicalNews.\n",
      "Althoughitappearsthatgevokizumab\"mayofferaviabletreatmentoptioninBehçet'sdisease,itremainstobeseenifanIL-1antibodywillhaveaneffectinotherformsofnoninfectiousuveitis.Aphase3clinicaltrialtoevaluatetheefficacyofinthetreatmentofnoninfectiousuveitisisintherecruitmentprocess,\"Dr.Kaysaid.\n",
      "\"Gevokizumabdoesofferthepossibilityofapathophysiology-driventargetedtherapyforIL-1relateduveitis,andifprovensafeandeffectiveinaphase3trial,thiscouldprovideavaluableoptioninthetreatmentofnoninfectiousintermediateuveitis,posterioruveitis,andpanuveitis.EvenifthisdrugisonlyshowntobeeffectiveinBehçet'sdisease,thiscouldprovideausefulandtargetedtreatmentforanextremelyaggressivecondition,perhapslimitingbroaderandmoretoxicimmunosuppression,\"Dr.Kaysaid.\n",
      "\n",
      "OtherPotentialIndications\n",
      "\n",
      "\"AsanIL-1βinhibitor,gevokizumabhaspotentialinaverylargenumberofindicationsthataredrivenbyinflammation,suchasnoninfectiousuveitis....earealsoengagedin2proof-of-conceptphase2trialsusinggevokizumabinpatientswithmoderatetosevereacnevulgarisandinerosiveosteoarthritisofthehand,andwewillinitiateathirdproof-of-concepttrialinanotherindicationlaterthisyear,\"Kurlandexplained.\n",
      "\"Withrespecttothemarketspecifically,weestimatethatthereareapproximately150,000patientsinthe,\"Kurlandadded,notingtheyarenotdiscussingthedrug'spricingyet.\n",
      "\n",
      "Dr.Kayhasdisclosednorelevantfinancialrelationships.\n",
      "\n",
      "\n",
      "\n",
      "\n",
      "\n",
      "\n",
      "\n",
      "References\n",
      "\n",
      "\n",
      "\n",
      "\n",
      "\n",
      "\n",
      "\n",
      "Acknowledgements\n",
      "\n",
      "\n",
      "\n",
      "\n",
      "\n",
      "\n",
      "\n",
      "\n",
      "\n"
     ]
    }
   ],
   "source": [
    "\n",
    "\n",
    "sample = denoise_text(root)\n",
    "\n",
    "print(sample.encode('utf-8').decode('utf-8'))\n"
   ]
  },
  {
   "cell_type": "code",
   "execution_count": null,
   "id": "7a739d5c-4dfa-4482-9014-c72ed5a5882f",
   "metadata": {},
   "outputs": [],
   "source": []
  }
 ],
 "metadata": {
  "kernelspec": {
   "display_name": "Python 3 (ipykernel)",
   "language": "python",
   "name": "python3"
  },
  "language_info": {
   "codemirror_mode": {
    "name": "ipython",
    "version": 3
   },
   "file_extension": ".py",
   "mimetype": "text/x-python",
   "name": "python",
   "nbconvert_exporter": "python",
   "pygments_lexer": "ipython3",
   "version": "3.12.4"
  }
 },
 "nbformat": 4,
 "nbformat_minor": 5
}
