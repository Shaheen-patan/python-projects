{
 "cells": [
  {
   "cell_type": "code",
   "execution_count": 1,
   "id": "afa9ae9a-260c-4491-96d3-bd55ad004917",
   "metadata": {},
   "outputs": [],
   "source": [
    "#pip install pytube3"
   ]
  },
  {
   "cell_type": "code",
   "execution_count": 3,
   "id": "92e97832-6992-4d37-bdf8-088bf4b0e2c4",
   "metadata": {},
   "outputs": [],
   "source": [
    "#pip install --upgrade pytube"
   ]
  },
  {
   "cell_type": "code",
   "execution_count": 5,
   "id": "b6fa4044-ae08-4004-8370-69b5416020d6",
   "metadata": {},
   "outputs": [],
   "source": [
    "from pytube import YouTube"
   ]
  },
  {
   "cell_type": "code",
   "execution_count": 7,
   "id": "b51084cb-1f7f-4184-bf72-155c622761d7",
   "metadata": {},
   "outputs": [],
   "source": [
    "#pip install yt-dlp"
   ]
  },
  {
   "cell_type": "code",
   "execution_count": 9,
   "id": "d701575e-1752-4082-b7a1-c70d02123768",
   "metadata": {},
   "outputs": [
    {
     "name": "stdin",
     "output_type": "stream",
     "text": [
      "Enter youtube video https://www.youtube.com/watch?v=_kHuBGn5yoQ\n"
     ]
    }
   ],
   "source": [
    "link = input(\"Enter youtube video\")\n",
    "\n",
    "yt = YouTube(link)"
   ]
  },
  {
   "cell_type": "code",
   "execution_count": 11,
   "id": "a4202f65-89dc-40ff-afc6-d13a24a69d91",
   "metadata": {},
   "outputs": [
    {
     "name": "stdout",
     "output_type": "stream",
     "text": [
      "Title:  5 Things that are just Magical for Skin Glow✨\n",
      "Views:  1905035\n",
      "Description:  None\n",
      "Duration:  830\n",
      "ratings: : None\n"
     ]
    }
   ],
   "source": [
    "print(\"Title: \", yt.title)\n",
    "print(\"Views: \", yt.views)\n",
    "print(\"Description: \", yt.description)\n",
    "print(\"Duration: \", yt.length)\n",
    "print(\"ratings: :\", yt.rating)\n"
   ]
  },
  {
   "cell_type": "code",
   "execution_count": 13,
   "id": "a8ae4ac6-f241-4ee0-ba43-82d844c50bfd",
   "metadata": {},
   "outputs": [],
   "source": [
    "from yt_dlp import YoutubeDL"
   ]
  },
  {
   "cell_type": "code",
   "execution_count": 17,
   "id": "103a269c-9968-4a58-a9c0-1a7e8bb900e0",
   "metadata": {
    "scrolled": true
   },
   "outputs": [
    {
     "name": "stdin",
     "output_type": "stream",
     "text": [
      "Do you want to download: yes\n"
     ]
    },
    {
     "name": "stdout",
     "output_type": "stream",
     "text": [
      "downloading..\n",
      "[youtube] Extracting URL: https://www.youtube.com/watch?v=_kHuBGn5yoQ\n",
      "[youtube] _kHuBGn5yoQ: Downloading webpage\n",
      "[youtube] _kHuBGn5yoQ: Downloading ios player API JSON\n",
      "[youtube] _kHuBGn5yoQ: Downloading web creator player API JSON\n",
      "[youtube] _kHuBGn5yoQ: Downloading m3u8 information\n",
      "[info] _kHuBGn5yoQ: Downloading 1 format(s): 18\n",
      "[download] Destination: 5 Things that are just Magical for Skin Glow✨ [_kHuBGn5yoQ].mp4\n",
      "[download] 100% of   56.46MiB in 00:00:03 at 16.42MiB/s    \n",
      "download completed\n"
     ]
    }
   ],
   "source": [
    "download_option = input(\"Do you want to download:\").lower()\n",
    "\n",
    "if download_option == \"yes\":\n",
    "    url = \"https://www.youtube.com/watch?v=_kHuBGn5yoQ\"\n",
    "    ydl_opts = {'format':'best'}\n",
    "    with YoutubeDL(ydl_opts) as ydl:\n",
    "        print(\"downloading..\")\n",
    "        ydl.download([url])\n",
    "        print(\"download completed\")\n",
    "else:\n",
    "    print(\"download aborted\")\n",
    "    "
   ]
  },
  {
   "cell_type": "code",
   "execution_count": 21,
   "id": "160426db-bfa6-47bd-b5b4-4e99999a16e8",
   "metadata": {},
   "outputs": [
    {
     "name": "stdout",
     "output_type": "stream",
     "text": [
      "Downloaded to: C:\\Users\\ADMIN\\Downloads\\BA,_DA_PROJECT\n"
     ]
    }
   ],
   "source": [
    "import os\n",
    "print(\"Downloaded to:\", os.getcwd()) # to get the file location\n"
   ]
  },
  {
   "cell_type": "code",
   "execution_count": null,
   "id": "3ca708c0-d38b-456e-bffe-a9cb0677c192",
   "metadata": {},
   "outputs": [],
   "source": [
    "\n"
   ]
  },
  {
   "cell_type": "code",
   "execution_count": null,
   "id": "ab99ca10-cc06-4db6-8455-69856c327308",
   "metadata": {},
   "outputs": [],
   "source": []
  }
 ],
 "metadata": {
  "kernelspec": {
   "display_name": "Python 3 (ipykernel)",
   "language": "python",
   "name": "python3"
  },
  "language_info": {
   "codemirror_mode": {
    "name": "ipython",
    "version": 3
   },
   "file_extension": ".py",
   "mimetype": "text/x-python",
   "name": "python",
   "nbconvert_exporter": "python",
   "pygments_lexer": "ipython3",
   "version": "3.12.4"
  }
 },
 "nbformat": 4,
 "nbformat_minor": 5
}
